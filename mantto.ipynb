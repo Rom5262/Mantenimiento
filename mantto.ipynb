{
 "cells": [
  {
   "cell_type": "code",
   "execution_count": 88,
   "id": "8e4e992e",
   "metadata": {},
   "outputs": [],
   "source": [
    "import pandas as pd\n",
    "import matplotlib.pyplot as plt \n",
    "from sklearn.model_selection import train_test_split\n",
    "from sklearn.tree import DecisionTreeRegressor\n",
    "from sklearn.metrics import mean_absolute_error, mean_squared_error, r2_score\n",
    "from sklearn.ensemble import RandomForestRegressor\n",
    "from sklearn.metrics import mean_absolute_error\n"
   ]
  },
  {
   "cell_type": "code",
   "execution_count": 89,
   "id": "942cd9da",
   "metadata": {},
   "outputs": [],
   "source": [
    "mantto = pd.read_csv(\"Mantenimiento Industrial.csv\")"
   ]
  },
  {
   "cell_type": "code",
   "execution_count": 90,
   "id": "46aa6fc7",
   "metadata": {},
   "outputs": [
    {
     "name": "stdout",
     "output_type": "stream",
     "text": [
      "<class 'pandas.core.frame.DataFrame'>\n",
      "RangeIndex: 50 entries, 0 to 49\n",
      "Data columns (total 4 columns):\n",
      " #   Column                    Non-Null Count  Dtype \n",
      "---  ------                    --------------  ----- \n",
      " 0   ID_Mantenimiento          50 non-null     int64 \n",
      " 1   Fecha                     50 non-null     object\n",
      " 2   Equipo                    50 non-null     object\n",
      " 3   Componentes_Reemplazados  50 non-null     object\n",
      "dtypes: int64(1), object(3)\n",
      "memory usage: 1.7+ KB\n"
     ]
    }
   ],
   "source": [
    "mantto.info()"
   ]
  },
  {
   "cell_type": "code",
   "execution_count": 91,
   "id": "b81c1541",
   "metadata": {},
   "outputs": [
    {
     "name": "stdout",
     "output_type": "stream",
     "text": [
      "   id_mantenimiento       fecha            equipo  \\\n",
      "0                 1  05/01/2023  Bomba_Hidráulica   \n",
      "1                 2  08/01/2023         Compresor   \n",
      "2                 3  12/01/2023   Motor_Eléctrico   \n",
      "3                 4  15/01/2023  Bomba_Hidráulica   \n",
      "4                 5  20/01/2023         Compresor   \n",
      "\n",
      "                          componentes_reemplazados  \n",
      "0          Filtro_Aceite,Sello_Mecánico,Rodamiento  \n",
      "1                   Filtro_Aire,Correa_Transmisión  \n",
      "2    Rodamiento,Escobillas,Ventilador_Enfriamiento  \n",
      "3                   Sello_Mecánico,Válvula_Control  \n",
      "4  Filtro_Aire,Válvula_Retención,Aceite_Lubricante  \n"
     ]
    }
   ],
   "source": [
    "mantto.columns = [col.lower() for col in mantto.columns]\n",
    "\n",
    "print(mantto.head())"
   ]
  },
  {
   "cell_type": "code",
   "execution_count": 92,
   "id": "4917b449",
   "metadata": {},
   "outputs": [
    {
     "name": "stdout",
     "output_type": "stream",
     "text": [
      "id_mantenimiento            0\n",
      "fecha                       0\n",
      "equipo                      0\n",
      "componentes_reemplazados    0\n",
      "dtype: int64\n"
     ]
    }
   ],
   "source": [
    "print(mantto.isnull().sum())"
   ]
  },
  {
   "cell_type": "code",
   "execution_count": 93,
   "id": "f34f5dee",
   "metadata": {},
   "outputs": [
    {
     "data": {
      "text/plain": [
       "np.int64(0)"
      ]
     },
     "execution_count": 93,
     "metadata": {},
     "output_type": "execute_result"
    }
   ],
   "source": [
    "mantto.duplicated().sum()"
   ]
  },
  {
   "cell_type": "code",
   "execution_count": 94,
   "id": "68c19e2c",
   "metadata": {},
   "outputs": [
    {
     "name": "stdout",
     "output_type": "stream",
     "text": [
      "equipo\n",
      "Compresor               12\n",
      "Motor_Eléctrico         12\n",
      "Bomba_Hidráulica         9\n",
      "Bomba_Centrífuga         7\n",
      "Válvula_Control          5\n",
      "Cinta_Transportadora     5\n",
      "Name: count, dtype: int64\n"
     ]
    }
   ],
   "source": [
    "conteo_equipos = mantto['equipo'].value_counts()\n",
    "print(conteo_equipos)"
   ]
  },
  {
   "cell_type": "markdown",
   "id": "c2d162a3",
   "metadata": {},
   "source": [
    "Convertiremos la columna \"fecha\" a formato 'datetime', para poder trabajar con ella"
   ]
  },
  {
   "cell_type": "code",
   "execution_count": 95,
   "id": "567a031e",
   "metadata": {},
   "outputs": [
    {
     "name": "stdout",
     "output_type": "stream",
     "text": [
      "<class 'pandas.core.frame.DataFrame'>\n",
      "RangeIndex: 50 entries, 0 to 49\n",
      "Data columns (total 4 columns):\n",
      " #   Column                    Non-Null Count  Dtype         \n",
      "---  ------                    --------------  -----         \n",
      " 0   id_mantenimiento          50 non-null     int64         \n",
      " 1   fecha                     50 non-null     datetime64[ns]\n",
      " 2   equipo                    50 non-null     object        \n",
      " 3   componentes_reemplazados  50 non-null     object        \n",
      "dtypes: datetime64[ns](1), int64(1), object(2)\n",
      "memory usage: 1.7+ KB\n",
      "None\n"
     ]
    }
   ],
   "source": [
    "mantto['fecha'] = pd.to_datetime(mantto['fecha'], format='%d/%m/%Y')\n",
    "print(mantto.info())"
   ]
  },
  {
   "cell_type": "markdown",
   "id": "fa44cd22",
   "metadata": {},
   "source": [
    "Realizaremos la transformación de cadena de texto a lista la columna 'componentes_reemplazados' "
   ]
  },
  {
   "cell_type": "code",
   "execution_count": 96,
   "id": "38e24353",
   "metadata": {},
   "outputs": [],
   "source": [
    "mantto['componente_lista'] = mantto['componentes_reemplazados'].str.split(',')"
   ]
  },
  {
   "cell_type": "markdown",
   "id": "40556be6",
   "metadata": {},
   "source": [
    "convertiremos la columna çomponente_lista´a varias filas de cada componente"
   ]
  },
  {
   "cell_type": "code",
   "execution_count": 97,
   "id": "10c053b8",
   "metadata": {},
   "outputs": [
    {
     "name": "stdout",
     "output_type": "stream",
     "text": [
      "   id_mantenimiento      fecha            equipo  \\\n",
      "0                 1 2023-01-05  Bomba_Hidráulica   \n",
      "0                 1 2023-01-05  Bomba_Hidráulica   \n",
      "0                 1 2023-01-05  Bomba_Hidráulica   \n",
      "1                 2 2023-01-08         Compresor   \n",
      "1                 2 2023-01-08         Compresor   \n",
      "\n",
      "                  componentes_reemplazados    componente_lista  \n",
      "0  Filtro_Aceite,Sello_Mecánico,Rodamiento       Filtro_Aceite  \n",
      "0  Filtro_Aceite,Sello_Mecánico,Rodamiento      Sello_Mecánico  \n",
      "0  Filtro_Aceite,Sello_Mecánico,Rodamiento          Rodamiento  \n",
      "1           Filtro_Aire,Correa_Transmisión         Filtro_Aire  \n",
      "1           Filtro_Aire,Correa_Transmisión  Correa_Transmisión  \n"
     ]
    }
   ],
   "source": [
    "refacciones = mantto.explode('componente_lista').copy()\n",
    "print(refacciones.head())"
   ]
  },
  {
   "cell_type": "markdown",
   "id": "fe38660d",
   "metadata": {},
   "source": [
    "Relizaremos una limpieza a la nueva fila 'componente_lista' eliminando espacios y conviertiendo las filas todo a minusculas para evitar duplicados"
   ]
  },
  {
   "cell_type": "code",
   "execution_count": 98,
   "id": "57093608",
   "metadata": {},
   "outputs": [],
   "source": [
    "refacciones['componentes'] = refacciones['componente_lista'].str.strip().str.lower()"
   ]
  },
  {
   "cell_type": "markdown",
   "id": "0cb5f15f",
   "metadata": {},
   "source": [
    "Vamos a calcular cuanto tiempo ha trascurrido entre un mantenimiento y otro de cada equipo."
   ]
  },
  {
   "cell_type": "code",
   "execution_count": 99,
   "id": "27c92d7d",
   "metadata": {},
   "outputs": [
    {
     "name": "stdout",
     "output_type": "stream",
     "text": [
      "6        NaT\n",
      "13   28 days\n",
      "18   18 days\n",
      "26   36 days\n",
      "34   35 days\n",
      "Name: tme_f, dtype: timedelta64[ns]\n"
     ]
    }
   ],
   "source": [
    "mantto = mantto.sort_values(by=['equipo', 'fecha'])\n",
    "mantto['tme_f'] = mantto.groupby('equipo')['fecha'].diff()\n",
    "print(mantto['tme_f'].head())"
   ]
  },
  {
   "cell_type": "markdown",
   "id": "d5436a88",
   "metadata": {},
   "source": [
    "Convertiremos el formato tiempo a número entero de días y realizaremos la eliminación de la columna 'tme_f'"
   ]
  },
  {
   "cell_type": "code",
   "execution_count": 100,
   "id": "02359f8f",
   "metadata": {},
   "outputs": [],
   "source": [
    "mantto['dias_hasta_falla'] = mantto['tme_f'].dt.days\n",
    "mantto = mantto.drop(columns=['tme_f'])"
   ]
  },
  {
   "cell_type": "markdown",
   "id": "fc01b401",
   "metadata": {},
   "source": [
    "EMPEZAREMOS A PREPARAR LOS DATOS PARA REALIZAR UN ANALISIS CON MACHINE LEARNING"
   ]
  },
  {
   "cell_type": "markdown",
   "id": "c45ea522",
   "metadata": {},
   "source": [
    "Convertiremos la columna 'equipo' en un formato de '0 y 1' usando la funcion de pandas \"dummies\"\n",
    " para que ML pueda procesar esta información sin errores de orden.\n",
    " Uniremos la nueva 'tabla' con nuestra base de datos'mantto'\n",
    " y eliminaremos la columna 'equipo' de nuestra base de datos"
   ]
  },
  {
   "cell_type": "code",
   "execution_count": 101,
   "id": "87ceb7a7",
   "metadata": {},
   "outputs": [],
   "source": [
    "codificacion_equipos = pd.get_dummies(mantto['equipo'], prefix='equipo')\n",
    "mantto = pd.concat([mantto, codificacion_equipos], axis=1)\n",
    "mantto = mantto.drop('equipo', axis=1)\n",
    "\n",
    "mantto = mantto.dropna(subset=['dias_hasta_falla'])\n"
   ]
  },
  {
   "cell_type": "markdown",
   "id": "d7051889",
   "metadata": {},
   "source": [
    "Ahora dividiremos los datos en dos grupos \n",
    "\n",
    "Selección de Entradas (X) y Salida (Y)"
   ]
  },
  {
   "cell_type": "code",
   "execution_count": 102,
   "id": "58a91f90",
   "metadata": {},
   "outputs": [],
   "source": [
    "Y = mantto['dias_hasta_falla']\n",
    "\n",
    "X = mantto.drop(columns=['id_mantenimiento', 'fecha', 'componentes_reemplazados', 'componente_lista', 'dias_hasta_falla'])"
   ]
  },
  {
   "cell_type": "code",
   "execution_count": 103,
   "id": "e08b9e7b",
   "metadata": {},
   "outputs": [],
   "source": [
    "X_entrenamiento, X_prueba, Y_entrenamiento, Y_prueba = train_test_split(\n",
    "    X, \n",
    "    Y, \n",
    "    test_size=0.2, \n",
    "    random_state=42)"
   ]
  },
  {
   "cell_type": "markdown",
   "id": "6af327a9",
   "metadata": {},
   "source": [
    "Usaremos el modelo de \"Árbol de Decisión para Regresión\" (ya que estamos prediciendo un número, los días)."
   ]
  },
  {
   "cell_type": "code",
   "execution_count": 104,
   "id": "af19ff3b",
   "metadata": {},
   "outputs": [
    {
     "data": {
      "text/html": [
       "<style>#sk-container-id-2 {\n",
       "  /* Definition of color scheme common for light and dark mode */\n",
       "  --sklearn-color-text: #000;\n",
       "  --sklearn-color-text-muted: #666;\n",
       "  --sklearn-color-line: gray;\n",
       "  /* Definition of color scheme for unfitted estimators */\n",
       "  --sklearn-color-unfitted-level-0: #fff5e6;\n",
       "  --sklearn-color-unfitted-level-1: #f6e4d2;\n",
       "  --sklearn-color-unfitted-level-2: #ffe0b3;\n",
       "  --sklearn-color-unfitted-level-3: chocolate;\n",
       "  /* Definition of color scheme for fitted estimators */\n",
       "  --sklearn-color-fitted-level-0: #f0f8ff;\n",
       "  --sklearn-color-fitted-level-1: #d4ebff;\n",
       "  --sklearn-color-fitted-level-2: #b3dbfd;\n",
       "  --sklearn-color-fitted-level-3: cornflowerblue;\n",
       "\n",
       "  /* Specific color for light theme */\n",
       "  --sklearn-color-text-on-default-background: var(--sg-text-color, var(--theme-code-foreground, var(--jp-content-font-color1, black)));\n",
       "  --sklearn-color-background: var(--sg-background-color, var(--theme-background, var(--jp-layout-color0, white)));\n",
       "  --sklearn-color-border-box: var(--sg-text-color, var(--theme-code-foreground, var(--jp-content-font-color1, black)));\n",
       "  --sklearn-color-icon: #696969;\n",
       "\n",
       "  @media (prefers-color-scheme: dark) {\n",
       "    /* Redefinition of color scheme for dark theme */\n",
       "    --sklearn-color-text-on-default-background: var(--sg-text-color, var(--theme-code-foreground, var(--jp-content-font-color1, white)));\n",
       "    --sklearn-color-background: var(--sg-background-color, var(--theme-background, var(--jp-layout-color0, #111)));\n",
       "    --sklearn-color-border-box: var(--sg-text-color, var(--theme-code-foreground, var(--jp-content-font-color1, white)));\n",
       "    --sklearn-color-icon: #878787;\n",
       "  }\n",
       "}\n",
       "\n",
       "#sk-container-id-2 {\n",
       "  color: var(--sklearn-color-text);\n",
       "}\n",
       "\n",
       "#sk-container-id-2 pre {\n",
       "  padding: 0;\n",
       "}\n",
       "\n",
       "#sk-container-id-2 input.sk-hidden--visually {\n",
       "  border: 0;\n",
       "  clip: rect(1px 1px 1px 1px);\n",
       "  clip: rect(1px, 1px, 1px, 1px);\n",
       "  height: 1px;\n",
       "  margin: -1px;\n",
       "  overflow: hidden;\n",
       "  padding: 0;\n",
       "  position: absolute;\n",
       "  width: 1px;\n",
       "}\n",
       "\n",
       "#sk-container-id-2 div.sk-dashed-wrapped {\n",
       "  border: 1px dashed var(--sklearn-color-line);\n",
       "  margin: 0 0.4em 0.5em 0.4em;\n",
       "  box-sizing: border-box;\n",
       "  padding-bottom: 0.4em;\n",
       "  background-color: var(--sklearn-color-background);\n",
       "}\n",
       "\n",
       "#sk-container-id-2 div.sk-container {\n",
       "  /* jupyter's `normalize.less` sets `[hidden] { display: none; }`\n",
       "     but bootstrap.min.css set `[hidden] { display: none !important; }`\n",
       "     so we also need the `!important` here to be able to override the\n",
       "     default hidden behavior on the sphinx rendered scikit-learn.org.\n",
       "     See: https://github.com/scikit-learn/scikit-learn/issues/21755 */\n",
       "  display: inline-block !important;\n",
       "  position: relative;\n",
       "}\n",
       "\n",
       "#sk-container-id-2 div.sk-text-repr-fallback {\n",
       "  display: none;\n",
       "}\n",
       "\n",
       "div.sk-parallel-item,\n",
       "div.sk-serial,\n",
       "div.sk-item {\n",
       "  /* draw centered vertical line to link estimators */\n",
       "  background-image: linear-gradient(var(--sklearn-color-text-on-default-background), var(--sklearn-color-text-on-default-background));\n",
       "  background-size: 2px 100%;\n",
       "  background-repeat: no-repeat;\n",
       "  background-position: center center;\n",
       "}\n",
       "\n",
       "/* Parallel-specific style estimator block */\n",
       "\n",
       "#sk-container-id-2 div.sk-parallel-item::after {\n",
       "  content: \"\";\n",
       "  width: 100%;\n",
       "  border-bottom: 2px solid var(--sklearn-color-text-on-default-background);\n",
       "  flex-grow: 1;\n",
       "}\n",
       "\n",
       "#sk-container-id-2 div.sk-parallel {\n",
       "  display: flex;\n",
       "  align-items: stretch;\n",
       "  justify-content: center;\n",
       "  background-color: var(--sklearn-color-background);\n",
       "  position: relative;\n",
       "}\n",
       "\n",
       "#sk-container-id-2 div.sk-parallel-item {\n",
       "  display: flex;\n",
       "  flex-direction: column;\n",
       "}\n",
       "\n",
       "#sk-container-id-2 div.sk-parallel-item:first-child::after {\n",
       "  align-self: flex-end;\n",
       "  width: 50%;\n",
       "}\n",
       "\n",
       "#sk-container-id-2 div.sk-parallel-item:last-child::after {\n",
       "  align-self: flex-start;\n",
       "  width: 50%;\n",
       "}\n",
       "\n",
       "#sk-container-id-2 div.sk-parallel-item:only-child::after {\n",
       "  width: 0;\n",
       "}\n",
       "\n",
       "/* Serial-specific style estimator block */\n",
       "\n",
       "#sk-container-id-2 div.sk-serial {\n",
       "  display: flex;\n",
       "  flex-direction: column;\n",
       "  align-items: center;\n",
       "  background-color: var(--sklearn-color-background);\n",
       "  padding-right: 1em;\n",
       "  padding-left: 1em;\n",
       "}\n",
       "\n",
       "\n",
       "/* Toggleable style: style used for estimator/Pipeline/ColumnTransformer box that is\n",
       "clickable and can be expanded/collapsed.\n",
       "- Pipeline and ColumnTransformer use this feature and define the default style\n",
       "- Estimators will overwrite some part of the style using the `sk-estimator` class\n",
       "*/\n",
       "\n",
       "/* Pipeline and ColumnTransformer style (default) */\n",
       "\n",
       "#sk-container-id-2 div.sk-toggleable {\n",
       "  /* Default theme specific background. It is overwritten whether we have a\n",
       "  specific estimator or a Pipeline/ColumnTransformer */\n",
       "  background-color: var(--sklearn-color-background);\n",
       "}\n",
       "\n",
       "/* Toggleable label */\n",
       "#sk-container-id-2 label.sk-toggleable__label {\n",
       "  cursor: pointer;\n",
       "  display: flex;\n",
       "  width: 100%;\n",
       "  margin-bottom: 0;\n",
       "  padding: 0.5em;\n",
       "  box-sizing: border-box;\n",
       "  text-align: center;\n",
       "  align-items: start;\n",
       "  justify-content: space-between;\n",
       "  gap: 0.5em;\n",
       "}\n",
       "\n",
       "#sk-container-id-2 label.sk-toggleable__label .caption {\n",
       "  font-size: 0.6rem;\n",
       "  font-weight: lighter;\n",
       "  color: var(--sklearn-color-text-muted);\n",
       "}\n",
       "\n",
       "#sk-container-id-2 label.sk-toggleable__label-arrow:before {\n",
       "  /* Arrow on the left of the label */\n",
       "  content: \"▸\";\n",
       "  float: left;\n",
       "  margin-right: 0.25em;\n",
       "  color: var(--sklearn-color-icon);\n",
       "}\n",
       "\n",
       "#sk-container-id-2 label.sk-toggleable__label-arrow:hover:before {\n",
       "  color: var(--sklearn-color-text);\n",
       "}\n",
       "\n",
       "/* Toggleable content - dropdown */\n",
       "\n",
       "#sk-container-id-2 div.sk-toggleable__content {\n",
       "  max-height: 0;\n",
       "  max-width: 0;\n",
       "  overflow: hidden;\n",
       "  text-align: left;\n",
       "  /* unfitted */\n",
       "  background-color: var(--sklearn-color-unfitted-level-0);\n",
       "}\n",
       "\n",
       "#sk-container-id-2 div.sk-toggleable__content.fitted {\n",
       "  /* fitted */\n",
       "  background-color: var(--sklearn-color-fitted-level-0);\n",
       "}\n",
       "\n",
       "#sk-container-id-2 div.sk-toggleable__content pre {\n",
       "  margin: 0.2em;\n",
       "  border-radius: 0.25em;\n",
       "  color: var(--sklearn-color-text);\n",
       "  /* unfitted */\n",
       "  background-color: var(--sklearn-color-unfitted-level-0);\n",
       "}\n",
       "\n",
       "#sk-container-id-2 div.sk-toggleable__content.fitted pre {\n",
       "  /* unfitted */\n",
       "  background-color: var(--sklearn-color-fitted-level-0);\n",
       "}\n",
       "\n",
       "#sk-container-id-2 input.sk-toggleable__control:checked~div.sk-toggleable__content {\n",
       "  /* Expand drop-down */\n",
       "  max-height: 200px;\n",
       "  max-width: 100%;\n",
       "  overflow: auto;\n",
       "}\n",
       "\n",
       "#sk-container-id-2 input.sk-toggleable__control:checked~label.sk-toggleable__label-arrow:before {\n",
       "  content: \"▾\";\n",
       "}\n",
       "\n",
       "/* Pipeline/ColumnTransformer-specific style */\n",
       "\n",
       "#sk-container-id-2 div.sk-label input.sk-toggleable__control:checked~label.sk-toggleable__label {\n",
       "  color: var(--sklearn-color-text);\n",
       "  background-color: var(--sklearn-color-unfitted-level-2);\n",
       "}\n",
       "\n",
       "#sk-container-id-2 div.sk-label.fitted input.sk-toggleable__control:checked~label.sk-toggleable__label {\n",
       "  background-color: var(--sklearn-color-fitted-level-2);\n",
       "}\n",
       "\n",
       "/* Estimator-specific style */\n",
       "\n",
       "/* Colorize estimator box */\n",
       "#sk-container-id-2 div.sk-estimator input.sk-toggleable__control:checked~label.sk-toggleable__label {\n",
       "  /* unfitted */\n",
       "  background-color: var(--sklearn-color-unfitted-level-2);\n",
       "}\n",
       "\n",
       "#sk-container-id-2 div.sk-estimator.fitted input.sk-toggleable__control:checked~label.sk-toggleable__label {\n",
       "  /* fitted */\n",
       "  background-color: var(--sklearn-color-fitted-level-2);\n",
       "}\n",
       "\n",
       "#sk-container-id-2 div.sk-label label.sk-toggleable__label,\n",
       "#sk-container-id-2 div.sk-label label {\n",
       "  /* The background is the default theme color */\n",
       "  color: var(--sklearn-color-text-on-default-background);\n",
       "}\n",
       "\n",
       "/* On hover, darken the color of the background */\n",
       "#sk-container-id-2 div.sk-label:hover label.sk-toggleable__label {\n",
       "  color: var(--sklearn-color-text);\n",
       "  background-color: var(--sklearn-color-unfitted-level-2);\n",
       "}\n",
       "\n",
       "/* Label box, darken color on hover, fitted */\n",
       "#sk-container-id-2 div.sk-label.fitted:hover label.sk-toggleable__label.fitted {\n",
       "  color: var(--sklearn-color-text);\n",
       "  background-color: var(--sklearn-color-fitted-level-2);\n",
       "}\n",
       "\n",
       "/* Estimator label */\n",
       "\n",
       "#sk-container-id-2 div.sk-label label {\n",
       "  font-family: monospace;\n",
       "  font-weight: bold;\n",
       "  display: inline-block;\n",
       "  line-height: 1.2em;\n",
       "}\n",
       "\n",
       "#sk-container-id-2 div.sk-label-container {\n",
       "  text-align: center;\n",
       "}\n",
       "\n",
       "/* Estimator-specific */\n",
       "#sk-container-id-2 div.sk-estimator {\n",
       "  font-family: monospace;\n",
       "  border: 1px dotted var(--sklearn-color-border-box);\n",
       "  border-radius: 0.25em;\n",
       "  box-sizing: border-box;\n",
       "  margin-bottom: 0.5em;\n",
       "  /* unfitted */\n",
       "  background-color: var(--sklearn-color-unfitted-level-0);\n",
       "}\n",
       "\n",
       "#sk-container-id-2 div.sk-estimator.fitted {\n",
       "  /* fitted */\n",
       "  background-color: var(--sklearn-color-fitted-level-0);\n",
       "}\n",
       "\n",
       "/* on hover */\n",
       "#sk-container-id-2 div.sk-estimator:hover {\n",
       "  /* unfitted */\n",
       "  background-color: var(--sklearn-color-unfitted-level-2);\n",
       "}\n",
       "\n",
       "#sk-container-id-2 div.sk-estimator.fitted:hover {\n",
       "  /* fitted */\n",
       "  background-color: var(--sklearn-color-fitted-level-2);\n",
       "}\n",
       "\n",
       "/* Specification for estimator info (e.g. \"i\" and \"?\") */\n",
       "\n",
       "/* Common style for \"i\" and \"?\" */\n",
       "\n",
       ".sk-estimator-doc-link,\n",
       "a:link.sk-estimator-doc-link,\n",
       "a:visited.sk-estimator-doc-link {\n",
       "  float: right;\n",
       "  font-size: smaller;\n",
       "  line-height: 1em;\n",
       "  font-family: monospace;\n",
       "  background-color: var(--sklearn-color-background);\n",
       "  border-radius: 1em;\n",
       "  height: 1em;\n",
       "  width: 1em;\n",
       "  text-decoration: none !important;\n",
       "  margin-left: 0.5em;\n",
       "  text-align: center;\n",
       "  /* unfitted */\n",
       "  border: var(--sklearn-color-unfitted-level-1) 1pt solid;\n",
       "  color: var(--sklearn-color-unfitted-level-1);\n",
       "}\n",
       "\n",
       ".sk-estimator-doc-link.fitted,\n",
       "a:link.sk-estimator-doc-link.fitted,\n",
       "a:visited.sk-estimator-doc-link.fitted {\n",
       "  /* fitted */\n",
       "  border: var(--sklearn-color-fitted-level-1) 1pt solid;\n",
       "  color: var(--sklearn-color-fitted-level-1);\n",
       "}\n",
       "\n",
       "/* On hover */\n",
       "div.sk-estimator:hover .sk-estimator-doc-link:hover,\n",
       ".sk-estimator-doc-link:hover,\n",
       "div.sk-label-container:hover .sk-estimator-doc-link:hover,\n",
       ".sk-estimator-doc-link:hover {\n",
       "  /* unfitted */\n",
       "  background-color: var(--sklearn-color-unfitted-level-3);\n",
       "  color: var(--sklearn-color-background);\n",
       "  text-decoration: none;\n",
       "}\n",
       "\n",
       "div.sk-estimator.fitted:hover .sk-estimator-doc-link.fitted:hover,\n",
       ".sk-estimator-doc-link.fitted:hover,\n",
       "div.sk-label-container:hover .sk-estimator-doc-link.fitted:hover,\n",
       ".sk-estimator-doc-link.fitted:hover {\n",
       "  /* fitted */\n",
       "  background-color: var(--sklearn-color-fitted-level-3);\n",
       "  color: var(--sklearn-color-background);\n",
       "  text-decoration: none;\n",
       "}\n",
       "\n",
       "/* Span, style for the box shown on hovering the info icon */\n",
       ".sk-estimator-doc-link span {\n",
       "  display: none;\n",
       "  z-index: 9999;\n",
       "  position: relative;\n",
       "  font-weight: normal;\n",
       "  right: .2ex;\n",
       "  padding: .5ex;\n",
       "  margin: .5ex;\n",
       "  width: min-content;\n",
       "  min-width: 20ex;\n",
       "  max-width: 50ex;\n",
       "  color: var(--sklearn-color-text);\n",
       "  box-shadow: 2pt 2pt 4pt #999;\n",
       "  /* unfitted */\n",
       "  background: var(--sklearn-color-unfitted-level-0);\n",
       "  border: .5pt solid var(--sklearn-color-unfitted-level-3);\n",
       "}\n",
       "\n",
       ".sk-estimator-doc-link.fitted span {\n",
       "  /* fitted */\n",
       "  background: var(--sklearn-color-fitted-level-0);\n",
       "  border: var(--sklearn-color-fitted-level-3);\n",
       "}\n",
       "\n",
       ".sk-estimator-doc-link:hover span {\n",
       "  display: block;\n",
       "}\n",
       "\n",
       "/* \"?\"-specific style due to the `<a>` HTML tag */\n",
       "\n",
       "#sk-container-id-2 a.estimator_doc_link {\n",
       "  float: right;\n",
       "  font-size: 1rem;\n",
       "  line-height: 1em;\n",
       "  font-family: monospace;\n",
       "  background-color: var(--sklearn-color-background);\n",
       "  border-radius: 1rem;\n",
       "  height: 1rem;\n",
       "  width: 1rem;\n",
       "  text-decoration: none;\n",
       "  /* unfitted */\n",
       "  color: var(--sklearn-color-unfitted-level-1);\n",
       "  border: var(--sklearn-color-unfitted-level-1) 1pt solid;\n",
       "}\n",
       "\n",
       "#sk-container-id-2 a.estimator_doc_link.fitted {\n",
       "  /* fitted */\n",
       "  border: var(--sklearn-color-fitted-level-1) 1pt solid;\n",
       "  color: var(--sklearn-color-fitted-level-1);\n",
       "}\n",
       "\n",
       "/* On hover */\n",
       "#sk-container-id-2 a.estimator_doc_link:hover {\n",
       "  /* unfitted */\n",
       "  background-color: var(--sklearn-color-unfitted-level-3);\n",
       "  color: var(--sklearn-color-background);\n",
       "  text-decoration: none;\n",
       "}\n",
       "\n",
       "#sk-container-id-2 a.estimator_doc_link.fitted:hover {\n",
       "  /* fitted */\n",
       "  background-color: var(--sklearn-color-fitted-level-3);\n",
       "}\n",
       "</style><div id=\"sk-container-id-2\" class=\"sk-top-container\"><div class=\"sk-text-repr-fallback\"><pre>DecisionTreeRegressor(random_state=42)</pre><b>In a Jupyter environment, please rerun this cell to show the HTML representation or trust the notebook. <br />On GitHub, the HTML representation is unable to render, please try loading this page with nbviewer.org.</b></div><div class=\"sk-container\" hidden><div class=\"sk-item\"><div class=\"sk-estimator fitted sk-toggleable\"><input class=\"sk-toggleable__control sk-hidden--visually\" id=\"sk-estimator-id-2\" type=\"checkbox\" checked><label for=\"sk-estimator-id-2\" class=\"sk-toggleable__label fitted sk-toggleable__label-arrow\"><div><div>DecisionTreeRegressor</div></div><div><a class=\"sk-estimator-doc-link fitted\" rel=\"noreferrer\" target=\"_blank\" href=\"https://scikit-learn.org/1.6/modules/generated/sklearn.tree.DecisionTreeRegressor.html\">?<span>Documentation for DecisionTreeRegressor</span></a><span class=\"sk-estimator-doc-link fitted\">i<span>Fitted</span></span></div></label><div class=\"sk-toggleable__content fitted\"><pre>DecisionTreeRegressor(random_state=42)</pre></div> </div></div></div></div>"
      ],
      "text/plain": [
       "DecisionTreeRegressor(random_state=42)"
      ]
     },
     "execution_count": 104,
     "metadata": {},
     "output_type": "execute_result"
    }
   ],
   "source": [
    "modelo_arbol = DecisionTreeRegressor(random_state=42)\n",
    "modelo_arbol.fit(X_entrenamiento, Y_entrenamiento)"
   ]
  },
  {
   "cell_type": "code",
   "execution_count": 105,
   "id": "b927c64e",
   "metadata": {},
   "outputs": [
    {
     "name": "stdout",
     "output_type": "stream",
     "text": [
      "El Error Absoluto Medio (MAE) es de: 3.54 días\n"
     ]
    }
   ],
   "source": [
    "predicciones = modelo_arbol.predict(X_prueba)\n",
    "mae = mean_absolute_error(Y_prueba, predicciones)\n",
    "print(f\"El Error Absoluto Medio (MAE) es de: {mae:.2f} días\")"
   ]
  },
  {
   "cell_type": "markdown",
   "id": "107a1381",
   "metadata": {},
   "source": [
    "Ahora Usaremos el Modelo \"RandomForest\""
   ]
  },
  {
   "cell_type": "code",
   "execution_count": 106,
   "id": "e1920697",
   "metadata": {},
   "outputs": [
    {
     "name": "stdout",
     "output_type": "stream",
     "text": [
      "El MAE del Árbol de Decisión fue: 3.54 días\n",
      "El MAE del Random Forest (Bosque Aleatorio) es de: 3.40 días\n"
     ]
    }
   ],
   "source": [
    "modelo_bosque = RandomForestRegressor(n_estimators=100, random_state=42)\n",
    "modelo_bosque.fit(X_entrenamiento, Y_entrenamiento)\n",
    "predicciones_bosque = modelo_bosque.predict(X_prueba)\n",
    "\n",
    "mae_bosque = mean_absolute_error(Y_prueba, predicciones_bosque)\n",
    "\n",
    "print(f\"El MAE del Árbol de Decisión fue: 3.54 días\")\n",
    "print(f\"El MAE del Random Forest (Bosque Aleatorio) es de: {mae_bosque:.2f} días\")"
   ]
  },
  {
   "cell_type": "markdown",
   "id": "f9c2df7f",
   "metadata": {},
   "source": [
    "Vamos a Generar un Gráfico de dispersión para visualizar estos resultados"
   ]
  },
  {
   "cell_type": "code",
   "execution_count": 108,
   "id": "d84c4747",
   "metadata": {},
   "outputs": [
    {
     "data": {
      "image/png": "[encoded data removed]",
      "text/plain": [
       "<Figure size 600x600 with 1 Axes>"
      ]
     },
     "metadata": {},
     "output_type": "display_data"
    }
   ],
   "source": [
    "plt.figure(figsize=(6, 6))\n",
    "\n",
    "plt.scatter(Y_prueba, predicciones_bosque, alpha=0.6, color='skyblue')\n",
    "plt.plot([Y_prueba.min(), Y_prueba.max()], [Y_prueba.min(), Y_prueba.max()], \n",
    "         '--r', linewidth=2)\n",
    "\n",
    "plt.title('Comparación: Valores Reales vs. Predicciones (Random Forest)')\n",
    "plt.xlabel('Días hasta la falla Reales (Y_prueba)')\n",
    "plt.ylabel('Días hasta la falla Predichos')\n",
    "plt.grid(True)\n",
    "plt.show()"
   ]
  },
  {
   "cell_type": "markdown",
   "id": "c37ba40c",
   "metadata": {},
   "source": [
    "El gráfico nos muestra qué tan bien realiza las predicciones nuestro modelo la fecha de falla. \n",
    "La línea roja es la predicción perfecta donde el modelo acierta al 100%. Cada punto azul es una de las fallas que el modelo intentó predecir. C\n",
    "omo la mayoría de los puntos azules están muy cerca de la línea roja, significa que el modelo es confiable.\n",
    "La distancia promedio de esos puntos a la línea es de solo 3.40 días, que es el error que arrojó el modelo."
   ]
  },
  {
   "cell_type": "markdown",
   "id": "df71a468",
   "metadata": {},
   "source": [
    "Vamos a analizar para obtener cuales equipos son los más importantes en la predicción de las fallas"
   ]
  },
  {
   "cell_type": "code",
   "execution_count": 109,
   "id": "ccff956f",
   "metadata": {},
   "outputs": [
    {
     "name": "stdout",
     "output_type": "stream",
     "text": [
      "Importancia de las Variables para la Predicción:\n",
      "                      Variable  Importancia\n",
      "4       equipo_Motor_Eléctrico     0.273282\n",
      "3             equipo_Compresor     0.261511\n",
      "2  equipo_Cinta_Transportadora     0.152463\n",
      "5       equipo_Válvula_Control     0.116562\n",
      "1      equipo_Bomba_Hidráulica     0.115058\n"
     ]
    }
   ],
   "source": [
    "importancias = modelo_bosque.feature_importances_\n",
    "\n",
    "importancia_df = pd.DataFrame({'Variable': X.columns, 'Importancia': importancias})\n",
    "importancia_df = importancia_df.sort_values(by='Importancia', ascending=False)\n",
    "\n",
    "print(\"Importancia de las Variables para la Predicción:\")\n",
    "print(importancia_df.head(5))"
   ]
  },
  {
   "cell_type": "markdown",
   "id": "51fcb3c3",
   "metadata": {},
   "source": [
    "Vamos a generar un Gráfico de barras para visualizar estos datos"
   ]
  },
  {
   "cell_type": "code",
   "execution_count": 110,
   "id": "873ab6c2",
   "metadata": {},
   "outputs": [
    {
     "data": {
      "image/png": "[encoded data removed]",
      "text/plain": [
       "<Figure size 1000x600 with 1 Axes>"
      ]
     },
     "metadata": {},
     "output_type": "display_data"
    }
   ],
   "source": [
    "importancia_df_ordenada = importancia_df.sort_values(by='Importancia', ascending=True)\n",
    "\n",
    "plt.figure(figsize=(10, 6))\n",
    "plt.barh(importancia_df_ordenada['Variable'], importancia_df_ordenada['Importancia'], color='darkred')\n",
    "\n",
    "plt.title('Ranking de Importancia de Variables (Equipos) en la Predicción', fontsize=14)\n",
    "plt.xlabel('Importancia (%)', fontsize=12)\n",
    "plt.ylabel('Equipos (Variables Dummy)', fontsize=12)\n",
    "\n",
    "\n",
    "for index, value in enumerate(importancia_df_ordenada['Importancia']):\n",
    "    plt.text(value + 0.005, index, f'{value*100:.2f}%') \n",
    "plt.grid(axis='x', alpha=0.5)\n",
    "plt.show()"
   ]
  },
  {
   "cell_type": "markdown",
   "id": "d9029a4f",
   "metadata": {},
   "source": [
    "El modelo nos dice que el patrón de fallas en la planta está dominado por solo dos equipos: el Motor Eléctrico y el Compresor. \n",
    "Estos dos equipos juntos determinan más de la mitad del resultado de la predicción de fallas. \n",
    "Esto significa que si se quiere reducir el error de o mejorar la estabilidad de la operación, la inversión en sensores, monitoreo o mantenimiento predictivo debe enfocarse principalmente en estos dos activos, ya que son los que causan la mayor variación en los tiempos de falla. \n",
    "Los otros equipos son menos importantes para la predicción, lo que sugiere que sus fallas son más rutinarias y predecibles."
   ]
  },
  {
   "cell_type": "markdown",
   "id": "70989a70",
   "metadata": {},
   "source": [
    "Generaremos un g´rafico Histograma de \"dias de falla\""
   ]
  },
  {
   "cell_type": "code",
   "execution_count": 112,
   "id": "4e3df287",
   "metadata": {},
   "outputs": [
    {
     "data": {
      "image/png": "[encoded data removed]",
      "text/plain": [
       "<Figure size 800x400 with 1 Axes>"
      ]
     },
     "metadata": {},
     "output_type": "display_data"
    }
   ],
   "source": [
    "plt.figure(figsize=(8, 4))\n",
    "plt.hist(Y_entrenamiento, bins=10, edgecolor='black', color='seagreen', alpha=0.8)\n",
    "\n",
    "plt.title('Distribución de Frecuencia de los Días hasta la Falla', fontsize=15)\n",
    "plt.xlabel('Días hasta la Falla', fontsize=12)\n",
    "plt.ylabel('Frecuencia (Número de Registros de Falla)', fontsize=12)\n",
    "plt.grid(axis='y', alpha=0.5)\n",
    "plt.show()"
   ]
  },
  {
   "cell_type": "markdown",
   "id": "861bc726",
   "metadata": {},
   "source": [
    "Esto nos dice que, si bien la falla promedio es mayor, el periodo de mayor riesgo y la ventana donde ocurre la mayor cantidad de fallas es durante la tercera semana (15-20 días) después del último mantenimiento. \n",
    "Este es el tiempo donde se debe estar más atento."
   ]
  },
  {
   "cell_type": "markdown",
   "id": "fc4fd9a7",
   "metadata": {},
   "source": [
    "Guardaremos el Modelo para "
   ]
  },
  {
   "cell_type": "code",
   "execution_count": 113,
   "id": "18786275",
   "metadata": {},
   "outputs": [
    {
     "name": "stdout",
     "output_type": "stream",
     "text": [
      "✅ ¡Modelo guardado exitosamente!\n"
     ]
    }
   ],
   "source": [
    "import joblib\n",
    "\n",
    "joblib.dump(modelo_bosque, 'modelo_random_forest_TMEF.joblib')\n",
    "\n",
    "print(\"✅ ¡Modelo guardado exitosamente!\")"
   ]
  }
 ],
 "metadata": {
  "kernelspec": {
   "display_name": "Python 3",
   "language": "python",
   "name": "python3"
  },
  "language_info": {
   "codemirror_mode": {
    "name": "ipython",
    "version": 3
   },
   "file_extension": ".py",
   "mimetype": "text/x-python",
   "name": "python",
   "nbconvert_exporter": "python",
   "pygments_lexer": "ipython3",
   "version": "3.13.3"
  }
 },
 "nbformat": 4,
 "nbformat_minor": 5
}
